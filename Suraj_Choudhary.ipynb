{
  "nbformat": 4,
  "nbformat_minor": 0,
  "metadata": {
    "colab": {
      "provenance": [],
      "collapsed_sections": []
    },
    "kernelspec": {
      "name": "python3",
      "display_name": "Python 3"
    },
    "language_info": {
      "name": "python"
    }
  },
  "cells": [
    {
      "cell_type": "code",
      "execution_count": 22,
      "metadata": {
        "id": "6MXu5eXomJy0"
      },
      "outputs": [],
      "source": [
        "import numpy as np\n",
        "import pandas as pd\n",
        "import sklearn"
      ]
    },
    {
      "cell_type": "code",
      "source": [
        "from sklearn.datasets import load_boston\n",
        "df = load_boston()"
      ],
      "metadata": {
        "id": "HKWmgQGTmnm4"
      },
      "execution_count": null,
      "outputs": []
    },
    {
      "cell_type": "code",
      "source": [
        "df.keys()"
      ],
      "metadata": {
        "id": "-jQSsgAJnmss"
      },
      "execution_count": null,
      "outputs": []
    },
    {
      "cell_type": "code",
      "source": [
        "print(df.data)"
      ],
      "metadata": {
        "id": "r2r5Z1Wko9ma"
      },
      "execution_count": null,
      "outputs": []
    },
    {
      "cell_type": "code",
      "source": [
        "boston = pd.DataFrame(df.data, columns=df.feature_names)\n",
        "boston.head()"
      ],
      "metadata": {
        "id": "fb-0FI_hpKQ9"
      },
      "execution_count": null,
      "outputs": []
    },
    {
      "cell_type": "code",
      "source": [
        "boston['MEDV'] = df.target\n",
        "boston.head()"
      ],
      "metadata": {
        "id": "P7WrtdparyL7"
      },
      "execution_count": null,
      "outputs": []
    },
    {
      "cell_type": "code",
      "source": [
        "boston.isnull()"
      ],
      "metadata": {
        "id": "XMeBnfMosrgo"
      },
      "execution_count": null,
      "outputs": []
    },
    {
      "cell_type": "code",
      "source": [
        "boston.isnull().sum()"
      ],
      "metadata": {
        "id": "5wLIb9qVsw6M"
      },
      "execution_count": null,
      "outputs": []
    },
    {
      "cell_type": "code",
      "source": [
        "from sklearn.model_selection import train_test_split\n",
        "\n",
        "X = boston.drop('MEDV', axis=1)\n",
        "Y = boston['MEDV']\n",
        "\n",
        "X_train, X_test, Y_train, Y_test = train_test_split(X, Y, test_size = 0.15, random_state=5)\n",
        "print(X_train.shape)\n",
        "print(X_test.shape)\n",
        "print(Y_train.shape)\n",
        "print(Y_test.shape)"
      ],
      "metadata": {
        "id": "kFiyxnxJs-Xb"
      },
      "execution_count": null,
      "outputs": []
    },
    {
      "cell_type": "code",
      "source": [
        "from sklearn.linear_model import LinearRegression\n",
        "from sklearn.metrics import mean_squared_error\n"
      ],
      "metadata": {
        "id": "6XD7Qszi0NTG"
      },
      "execution_count": 31,
      "outputs": []
    },
    {
      "cell_type": "code",
      "source": [
        "lin_model = LinearRegression()\n",
        "lin_model.fit(X_train, Y_train)"
      ],
      "metadata": {
        "id": "QXV2zptf4TpL"
      },
      "execution_count": null,
      "outputs": []
    },
    {
      "cell_type": "code",
      "source": [
        "y_train_predict = lin_model.predict(X_train)\n",
        "rmse = (np.sqrt(mean_squared_error(Y_train, y_train_predict)))\n",
        "\n",
        "print(\"The model performance for training set\")\n",
        "print('RMSE is {}'.format(rmse))\n",
        "print(\"\\n\")\n",
        "\n",
        "y_test_predict = lin_model.predict(X_test)\n",
        "rmse = (np.sqrt(mean_squared_error(Y_test, y_test_predict)))\n",
        "\n",
        "print(\"The model performance for testing set\")\n",
        "print('RMSE is{}'.format(rmse))"
      ],
      "metadata": {
        "id": "QpZtMxD76a4W"
      },
      "execution_count": null,
      "outputs": []
    }
  ]
}